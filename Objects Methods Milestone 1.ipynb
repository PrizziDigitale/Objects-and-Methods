{
 "cells": [
  {
   "cell_type": "code",
   "execution_count": 14,
   "id": "851bb7cd",
   "metadata": {},
   "outputs": [
    {
     "data": {
      "text/plain": [
       "100"
      ]
     },
     "execution_count": 14,
     "metadata": {},
     "output_type": "execute_result"
    }
   ],
   "source": [
    "# Price class using traditional method\n",
    "class Price1:\n",
    "    def __init__(self, part_number, price):\n",
    "        self.part_number = part_number\n",
    "        self.price = price\n",
    "        \n",
    "    def get_price(self):\n",
    "        return self.price\n",
    "\n",
    "# create instance Price1 class\n",
    "price1 = Price1(123456, 100)\n",
    "# test to see if the method is working\n",
    "price1.get_price()"
   ]
  },
  {
   "cell_type": "code",
   "execution_count": 15,
   "id": "93ac9e1f",
   "metadata": {},
   "outputs": [],
   "source": [
    "def function__init__(self, part_number, price):\n",
    "    self.part_number = part_number\n",
    "    self.price = price\n",
    "    \n",
    "def function_get_price(self):\n",
    "    return self.price"
   ]
  },
  {
   "cell_type": "code",
   "execution_count": 16,
   "id": "5bed9daa",
   "metadata": {},
   "outputs": [],
   "source": [
    "namespace = {\"__init__\":function__init__, \"get_price\":function_get_price}"
   ]
  },
  {
   "cell_type": "code",
   "execution_count": 17,
   "id": "08fc26df",
   "metadata": {},
   "outputs": [],
   "source": [
    "Price2 = type(\"Price2\", (), namespace)\n",
    "price2 = Price2(654321, 200)"
   ]
  },
  {
   "cell_type": "code",
   "execution_count": 18,
   "id": "944671bd",
   "metadata": {},
   "outputs": [
    {
     "name": "stdout",
     "output_type": "stream",
     "text": [
      "<__main__.Price1 object at 0x106f020b0>\n",
      "<__main__.Price2 object at 0x106f028f0>\n"
     ]
    }
   ],
   "source": [
    "print(price1)\n",
    "print(price2)"
   ]
  },
  {
   "cell_type": "code",
   "execution_count": 19,
   "id": "0971d4e7",
   "metadata": {},
   "outputs": [
    {
     "name": "stdout",
     "output_type": "stream",
     "text": [
      "100\n",
      "200\n"
     ]
    }
   ],
   "source": [
    "print(price1.get_price())\n",
    "print(price2.get_price())"
   ]
  }
 ],
 "metadata": {
  "kernelspec": {
   "display_name": "Python 3 (ipykernel)",
   "language": "python",
   "name": "python3"
  },
  "language_info": {
   "codemirror_mode": {
    "name": "ipython",
    "version": 3
   },
   "file_extension": ".py",
   "mimetype": "text/x-python",
   "name": "python",
   "nbconvert_exporter": "python",
   "pygments_lexer": "ipython3",
   "version": "3.10.0"
  }
 },
 "nbformat": 4,
 "nbformat_minor": 5
}
