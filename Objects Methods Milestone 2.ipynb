{
 "cells": [
  {
   "cell_type": "markdown",
   "id": "5180f85a",
   "metadata": {},
   "source": [
    "### Step 1 and 2 - Create a class called Price and then an instance of the class called item_price."
   ]
  },
  {
   "cell_type": "code",
   "execution_count": 149,
   "id": "52479832",
   "metadata": {},
   "outputs": [
    {
     "name": "stdout",
     "output_type": "stream",
     "text": [
      "1000.0\n"
     ]
    }
   ],
   "source": [
    "class Price:\n",
    "    def __init__(self, part_number, price):\n",
    "        self.part_number = part_number\n",
    "        self.price = price\n",
    "    \n",
    "    def get_price(self):\n",
    "        return self.price\n",
    "\n",
    "my_item = Price(\"ST2110\", 1000.00)\n",
    "print(my_item.get_price())"
   ]
  },
  {
   "cell_type": "markdown",
   "id": "720ba7ae",
   "metadata": {},
   "source": [
    "### Step 3 - Do the dir function on the class and then the instance to see the differences, if any."
   ]
  },
  {
   "cell_type": "code",
   "execution_count": 150,
   "id": "643dadf6",
   "metadata": {},
   "outputs": [
    {
     "data": {
      "text/plain": [
       "['__class__',\n",
       " '__delattr__',\n",
       " '__dict__',\n",
       " '__dir__',\n",
       " '__doc__',\n",
       " '__eq__',\n",
       " '__format__',\n",
       " '__ge__',\n",
       " '__getattribute__',\n",
       " '__gt__',\n",
       " '__hash__',\n",
       " '__init__',\n",
       " '__init_subclass__',\n",
       " '__le__',\n",
       " '__lt__',\n",
       " '__module__',\n",
       " '__ne__',\n",
       " '__new__',\n",
       " '__reduce__',\n",
       " '__reduce_ex__',\n",
       " '__repr__',\n",
       " '__setattr__',\n",
       " '__sizeof__',\n",
       " '__str__',\n",
       " '__subclasshook__',\n",
       " '__weakref__',\n",
       " 'get_price']"
      ]
     },
     "execution_count": 150,
     "metadata": {},
     "output_type": "execute_result"
    }
   ],
   "source": [
    "dir(Price)"
   ]
  },
  {
   "cell_type": "code",
   "execution_count": 151,
   "id": "185516d5",
   "metadata": {},
   "outputs": [
    {
     "data": {
      "text/plain": [
       "['__class__',\n",
       " '__delattr__',\n",
       " '__dict__',\n",
       " '__dir__',\n",
       " '__doc__',\n",
       " '__eq__',\n",
       " '__format__',\n",
       " '__ge__',\n",
       " '__getattribute__',\n",
       " '__gt__',\n",
       " '__hash__',\n",
       " '__init__',\n",
       " '__init_subclass__',\n",
       " '__le__',\n",
       " '__lt__',\n",
       " '__module__',\n",
       " '__ne__',\n",
       " '__new__',\n",
       " '__reduce__',\n",
       " '__reduce_ex__',\n",
       " '__repr__',\n",
       " '__setattr__',\n",
       " '__sizeof__',\n",
       " '__str__',\n",
       " '__subclasshook__',\n",
       " '__weakref__',\n",
       " 'get_price',\n",
       " 'part_number',\n",
       " 'price']"
      ]
     },
     "execution_count": 151,
     "metadata": {},
     "output_type": "execute_result"
    }
   ],
   "source": [
    "dir(my_item)"
   ]
  },
  {
   "cell_type": "markdown",
   "id": "b83ae027",
   "metadata": {},
   "source": [
    "### As you can see, the class and the instance both show the same inherited methods using dir. It also shows the method that is part of the class itself, get_price. But the instance also shows the variables."
   ]
  },
  {
   "cell_type": "markdown",
   "id": "8709bcce",
   "metadata": {},
   "source": [
    "### Next do the __dict__ method on the class, followed by the instance."
   ]
  },
  {
   "cell_type": "code",
   "execution_count": 152,
   "id": "f51f07e5",
   "metadata": {},
   "outputs": [
    {
     "data": {
      "text/plain": [
       "mappingproxy({'__module__': '__main__',\n",
       "              '__init__': <function __main__.Price.__init__(self, part_number, price)>,\n",
       "              'get_price': <function __main__.Price.get_price(self)>,\n",
       "              '__dict__': <attribute '__dict__' of 'Price' objects>,\n",
       "              '__weakref__': <attribute '__weakref__' of 'Price' objects>,\n",
       "              '__doc__': None})"
      ]
     },
     "execution_count": 152,
     "metadata": {},
     "output_type": "execute_result"
    }
   ],
   "source": [
    "Price.__dict__"
   ]
  },
  {
   "cell_type": "code",
   "execution_count": 153,
   "id": "7ea4cfd1",
   "metadata": {},
   "outputs": [
    {
     "data": {
      "text/plain": [
       "{'part_number': 'ST2110', 'price': 1000.0}"
      ]
     },
     "execution_count": 153,
     "metadata": {},
     "output_type": "execute_result"
    }
   ],
   "source": [
    "my_item.__dict__"
   ]
  },
  {
   "cell_type": "markdown",
   "id": "c4bc656d",
   "metadata": {},
   "source": [
    "### When you do the dict method on the class itself we get a dictionary of methods in the class. When you do the dict method on the instance you get the attributes names as a key with the assigned value."
   ]
  },
  {
   "cell_type": "markdown",
   "id": "50822563",
   "metadata": {},
   "source": [
    "### Step 4 & 5 - Create 2 standalone functions and attache them to the class."
   ]
  },
  {
   "cell_type": "code",
   "execution_count": 154,
   "id": "61fd367f",
   "metadata": {},
   "outputs": [],
   "source": [
    "def set_discount(item_price, percent_off):\n",
    "    item_price.percent_off = percent_off\n",
    "\n",
    "def get_discount_price(item_price):\n",
    "    return item_price.price * ((100 - item_price.percent_off) * .01)\n",
    "\n",
    "Price.set_discount = set_discount\n",
    "Price.get_discount_price = get_discount_price"
   ]
  },
  {
   "cell_type": "markdown",
   "id": "01b67c41",
   "metadata": {},
   "source": [
    "### Create a new instance and check the new methods"
   ]
  },
  {
   "cell_type": "code",
   "execution_count": 155,
   "id": "c69d98f4",
   "metadata": {},
   "outputs": [
    {
     "name": "stdout",
     "output_type": "stream",
     "text": [
      "1000.0\n"
     ]
    }
   ],
   "source": [
    "my_item2 = Price(\"ST2111\", 1000.00)\n",
    "print(my_item2.get_price())"
   ]
  },
  {
   "cell_type": "code",
   "execution_count": 156,
   "id": "e4abdba3",
   "metadata": {},
   "outputs": [
    {
     "name": "stdout",
     "output_type": "stream",
     "text": [
      "700.0000000000001\n"
     ]
    }
   ],
   "source": [
    "my_item2.set_discount(30)\n",
    "print(my_item2.get_discount_price())"
   ]
  },
  {
   "cell_type": "markdown",
   "id": "baf752c6",
   "metadata": {},
   "source": [
    "### Check to see if the methods work with the instance originally created."
   ]
  },
  {
   "cell_type": "code",
   "execution_count": 157,
   "id": "3bad9be2",
   "metadata": {},
   "outputs": [
    {
     "name": "stdout",
     "output_type": "stream",
     "text": [
      "700.0000000000001\n"
     ]
    }
   ],
   "source": [
    "my_item.set_discount(30)\n",
    "print(my_item.get_discount_price())"
   ]
  },
  {
   "cell_type": "markdown",
   "id": "dc1db3ae",
   "metadata": {},
   "source": [
    "### The newly added methods work with the original instance. Check the dir function on it."
   ]
  },
  {
   "cell_type": "code",
   "execution_count": 158,
   "id": "e183913e",
   "metadata": {},
   "outputs": [
    {
     "data": {
      "text/plain": [
       "['__class__',\n",
       " '__delattr__',\n",
       " '__dict__',\n",
       " '__dir__',\n",
       " '__doc__',\n",
       " '__eq__',\n",
       " '__format__',\n",
       " '__ge__',\n",
       " '__getattribute__',\n",
       " '__gt__',\n",
       " '__hash__',\n",
       " '__init__',\n",
       " '__init_subclass__',\n",
       " '__le__',\n",
       " '__lt__',\n",
       " '__module__',\n",
       " '__ne__',\n",
       " '__new__',\n",
       " '__reduce__',\n",
       " '__reduce_ex__',\n",
       " '__repr__',\n",
       " '__setattr__',\n",
       " '__sizeof__',\n",
       " '__str__',\n",
       " '__subclasshook__',\n",
       " '__weakref__',\n",
       " 'get_discount_price',\n",
       " 'get_price',\n",
       " 'part_number',\n",
       " 'percent_off',\n",
       " 'price',\n",
       " 'set_discount']"
      ]
     },
     "execution_count": 158,
     "metadata": {},
     "output_type": "execute_result"
    }
   ],
   "source": [
    "dir(my_item)"
   ]
  },
  {
   "cell_type": "markdown",
   "id": "b9345612",
   "metadata": {},
   "source": [
    "### The dir function shows that the newly added methods are now part of the original function. We have done a monkey patch."
   ]
  },
  {
   "cell_type": "markdown",
   "id": "59cb4dd0",
   "metadata": {},
   "source": [
    "### Step 6 - Create a new basic class and an instance of the object. Then see if adding the same function to the instance, rather than the class, works the same."
   ]
  },
  {
   "cell_type": "code",
   "execution_count": 159,
   "id": "f2ec11b1",
   "metadata": {},
   "outputs": [
    {
     "name": "stdout",
     "output_type": "stream",
     "text": [
      "1000.0\n"
     ]
    }
   ],
   "source": [
    "class New_Price:\n",
    "    def __init__(self, part_number, price):\n",
    "        self.part_number = part_number\n",
    "        self.price = price\n",
    "    \n",
    "    def get_price(self):\n",
    "        return self.price\n",
    "\n",
    "my_new_item = New_Price(\"new_part\", 1000.00)\n",
    "print(my_new_item.get_price())"
   ]
  },
  {
   "cell_type": "code",
   "execution_count": 160,
   "id": "72deb243",
   "metadata": {
    "scrolled": true
   },
   "outputs": [
    {
     "name": "stdout",
     "output_type": "stream",
     "text": [
      "700.0000000000001\n"
     ]
    }
   ],
   "source": [
    "my_new_item.set_discount = set_discount\n",
    "my_new_item.get_discount_price = get_discount_price\n",
    "my_new_item.set_discount(my_new_item,30)\n",
    "print(my_new_item.get_discount_price(my_new_item))"
   ]
  },
  {
   "cell_type": "markdown",
   "id": "1536cb63",
   "metadata": {},
   "source": [
    "### I thought I made it work, but after reviewing the solution in the live project I can see that I faked step 6."
   ]
  }
 ],
 "metadata": {
  "kernelspec": {
   "display_name": "Python 3 (ipykernel)",
   "language": "python",
   "name": "python3"
  },
  "language_info": {
   "codemirror_mode": {
    "name": "ipython",
    "version": 3
   },
   "file_extension": ".py",
   "mimetype": "text/x-python",
   "name": "python",
   "nbconvert_exporter": "python",
   "pygments_lexer": "ipython3",
   "version": "3.10.0"
  }
 },
 "nbformat": 4,
 "nbformat_minor": 5
}
